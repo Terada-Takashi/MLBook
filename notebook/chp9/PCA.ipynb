{
 "cells": [
  {
   "cell_type": "code",
   "execution_count": null,
   "metadata": {
    "ExecuteTime": {
     "end_time": "2020-09-01T08:08:22.527754Z",
     "start_time": "2020-09-01T08:08:22.519997Z"
    }
   },
   "outputs": [],
   "source": [
    "import warnings\n",
    "warnings.simplefilter('ignore')\n",
    "\n",
    "import sys, os\n",
    "# システムの探索パスに'../../codes/'を追加し、codes/data.pyをモジュールとして読み込めるようにする\n",
    "sys.path.append('../../codes/')"
   ]
  },
  {
   "cell_type": "code",
   "execution_count": null,
   "metadata": {},
   "outputs": [],
   "source": [
    "from matplotlib import rcParams\n",
    "rcParams['font.family'] = 'sans-serif'\n",
    "rcParams['font.sans-serif'] = ['Hiragino Maru Gothic Pro', 'Yu Gothic', 'Meirio', 'Takao', 'IPAexGothic', 'IPAPGothic', 'Noto Sans CJK JP']"
   ]
  },
  {
   "cell_type": "code",
   "execution_count": null,
   "metadata": {},
   "outputs": [],
   "source": [
    "# -*- coding: utf-8 -*-\n",
    "import numpy as np\n",
    "import PCA\n",
    "# import data_jupyter as data\n",
    "import data as data\n",
    "\n",
    "#-------------------\n",
    "# 1. データの作成\n",
    "myData = data.unsupervised()\n",
    "myData.makeData(dataType=2)\n",
    "#-------------------\n",
    "\n",
    "#-------------------\n",
    "# 2. 主成分分析による次元削減\n",
    "myModel = PCA.PCA(myData.X)\n",
    "myModel.reduceDim(lowerDim=2)\n",
    "#-------------------\n",
    "\n",
    "#-------------------\n",
    "# 3. モデルパラメータの表示\n",
    "print(f\"固有値:\\nlambda={myModel.L}\")\n",
    "print(f\"正規直交基底ベクトル:\\nw=\\n{myModel.W}\")\n",
    "#-------------------"
   ]
  },
  {
   "cell_type": "code",
   "execution_count": null,
   "metadata": {},
   "outputs": [],
   "source": [
    "#-------------------\n",
    "# 4. データと主成分軸のプロット\n",
    "# 次元削減後のデータ（主成分得点）のプロット\n",
    "if myModel.lowerDim == 2:\n",
    "    myModel.plotResult()"
   ]
  },
  {
   "cell_type": "code",
   "execution_count": null,
   "metadata": {},
   "outputs": [],
   "source": [
    "# 主成分軸（平面）のプロット\n",
    "if (myData.X.shape[1] == 3) & (myModel.lowerDim == 2):\n",
    "    myModel.plotModel3D(xLabel=myData.labels[0],yLabel=myData.labels[1],zLabel=myData.labels[2],nGrids=20)\n",
    "#-------------------"
   ]
  },
  {
   "cell_type": "code",
   "execution_count": null,
   "metadata": {},
   "outputs": [],
   "source": [
    "#-------------------\n",
    "# 5. モデルの評価\n",
    "# 寄与率と累積寄与率の計算\n",
    "contRatio,cumContRatio = myModel.compContRatio()\n",
    "print(f\"寄与率:{np.round(contRatio,decimals=1)}\")\n",
    "print(f\"累積寄与率:{np.round(cumContRatio,decimals=1)}\")\n",
    "\n",
    "# 主成分負荷量の計算\n",
    "print(f\"主成分負荷量:\\n{np.round(myModel.compLoading(),decimals=1)}\")\n",
    "#-------------------"
   ]
  }
 ],
 "metadata": {
  "kernelspec": {
   "display_name": "base",
   "language": "python",
   "name": "python3"
  },
  "language_info": {
   "codemirror_mode": {
    "name": "ipython",
    "version": 3
   },
   "file_extension": ".py",
   "mimetype": "text/x-python",
   "name": "python",
   "nbconvert_exporter": "python",
   "pygments_lexer": "ipython3",
   "version": "3.11.6"
  }
 },
 "nbformat": 4,
 "nbformat_minor": 2
}
