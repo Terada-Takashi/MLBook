{
 "cells": [
  {
   "cell_type": "code",
   "execution_count": null,
   "metadata": {
    "ExecuteTime": {
     "end_time": "2020-09-01T08:08:22.527754Z",
     "start_time": "2020-09-01T08:08:22.519997Z"
    }
   },
   "outputs": [],
   "source": [
    "import warnings\n",
    "warnings.simplefilter('ignore')\n",
    "\n",
    "import sys, os\n",
    "# システムの探索パスに'../../codes/'を追加し、codes/data.pyをモジュールとして読み込めるようにする\n",
    "sys.path.append('../../codes/')"
   ]
  },
  {
   "cell_type": "code",
   "execution_count": null,
   "metadata": {},
   "outputs": [],
   "source": [
    "from matplotlib import rcParams\n",
    "rcParams['font.family'] = 'sans-serif'\n",
    "rcParams['font.sans-serif'] = ['Hiragino Maru Gothic Pro', 'Yu Gothic', 'Meirio', 'Takao', 'IPAexGothic', 'IPAPGothic', 'Noto Sans CJK JP']"
   ]
  },
  {
   "cell_type": "code",
   "execution_count": null,
   "metadata": {},
   "outputs": [],
   "source": [
    "%matplotlib inline\n",
    "\n",
    "# -*- coding: utf-8 -*-\n",
    "import numpy as np\n",
    "import kmeans\n",
    "import PCA\n",
    "import data\n",
    "\n",
    "#-------------------\n",
    "# 1. データの作成\n",
    "myData = data.unsupervised()\n",
    "myData.makeData(dataType=1)\n",
    "#-------------------\n",
    "\n",
    "#-------------------\n",
    "# 2. 主成分分析による2次元に次元削減\n",
    "myModel = PCA.PCA(myData.X)\n",
    "myModel.reduceDim(lowerDim=2)\n",
    "X = myModel.F\n",
    "#-------------------\n",
    "\n",
    "#-------------------\n",
    "# 3. k平均法を用いたクラスタリングと結果のプロット\n",
    "myModel = kmeans.kmeans(X=X,K=3)\n",
    "\n",
    "for ite in np.arange(10):\n",
    "\n",
    "    # クラスター中心の出力\n",
    "    print(f\"反復{ite+1}、クラスター中心:\\n{myModel.C}\")\n",
    "    \n",
    "    # クラスターの更新\n",
    "    myModel.updateCluster()\n",
    "    \n",
    "    # クラスターのプロット\n",
    "    if X.shape[1] == 2:\n",
    "        myModel.plotCluster()\n",
    "#-------------------"
   ]
  }
 ],
 "metadata": {
  "kernelspec": {
   "display_name": "base",
   "language": "python",
   "name": "python3"
  },
  "language_info": {
   "codemirror_mode": {
    "name": "ipython",
    "version": 3
   },
   "file_extension": ".py",
   "mimetype": "text/x-python",
   "name": "python",
   "nbconvert_exporter": "python",
   "pygments_lexer": "ipython3",
   "version": "3.11.6"
  }
 },
 "nbformat": 4,
 "nbformat_minor": 2
}
