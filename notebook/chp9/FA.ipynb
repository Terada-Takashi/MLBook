{
 "cells": [
  {
   "cell_type": "code",
   "execution_count": 1,
   "metadata": {
    "ExecuteTime": {
     "end_time": "2020-09-01T08:08:22.527754Z",
     "start_time": "2020-09-01T08:08:22.519997Z"
    }
   },
   "outputs": [],
   "source": [
    "import warnings\n",
    "warnings.simplefilter('ignore')\n",
    "\n",
    "import sys, os\n",
    "# システムの探索パスに'../../codes/'を追加し、codes/data.pyをモジュールとして読み込めるようにする\n",
    "sys.path.append('../../codes/')"
   ]
  },
  {
   "cell_type": "code",
   "execution_count": 2,
   "metadata": {},
   "outputs": [],
   "source": [
    "from matplotlib import rcParams\n",
    "rcParams['font.family'] = 'sans-serif'\n",
    "rcParams['font.sans-serif'] = ['Hiragino Maru Gothic Pro', 'Yu Gothic', 'Meirio', 'Takao', 'IPAexGothic', 'IPAPGothic', 'Noto Sans CJK JP']"
   ]
  },
  {
   "cell_type": "code",
   "execution_count": 3,
   "metadata": {},
   "outputs": [],
   "source": [
    "# -*- coding: utf-8 -*-\n",
    "import numpy as np\n",
    "import FA\n",
    "import data\n",
    "\n",
    "#-------------------\n",
    "# 1. データの作成\n",
    "myData = data.unsupervised()\n",
    "myData.makeData(dataType=1)\n",
    "#-------------------\n",
    "\n",
    "#-------------------\n",
    "# 2. 主因子法による因子の抽出\n",
    "myModel = FA.FA(myData.X)\n",
    "myModel.extractFactor(lowerDim=2)\n",
    "#-------------------\n",
    "\n",
    "#-------------------\n",
    "# 3. 因子の表示\n",
    "print(f\"因子負荷量:\\nW=\\n{np.round(myModel.W,decimals=2)}\")\n",
    "print(f\"独自因子の分散:\\nE=\\n{np.round(myModel.E,decimals=2)}\")\n",
    "#-------------------"
   ]
  },
  {
   "cell_type": "code",
   "execution_count": 4,
   "metadata": {},
   "outputs": [],
   "source": [
    "#-------------------\n",
    "# 4. 因子のプロット\n",
    "# 主成分得点のプロット（２次元への次元削減時のみ実行可）\n",
    "if myModel.lowerDim == 2:\n",
    "    myModel.drawRadarChart(labels=myData.labels)\n",
    "#-------------------"
   ]
  },
  {
   "cell_type": "code",
   "execution_count": 5,
   "metadata": {},
   "outputs": [],
   "source": [
    "#-------------------\n",
    "# 5. 共通性と独自性の計算\n",
    "comVar,uniVar = myModel.compVariances()\n",
    "print(f\"共通性:{np.round(comVar,decimals=2)}\")\n",
    "print(f\"独自性:{np.round(uniVar,decimals=2)}\")\n",
    "#-------------------"
   ]
  }
 ],
 "metadata": {
  "kernelspec": {
   "display_name": "base",
   "language": "python",
   "name": "python3"
  },
  "language_info": {
   "codemirror_mode": {
    "name": "ipython",
    "version": 3
   },
   "file_extension": ".py",
   "mimetype": "text/x-python",
   "name": "python",
   "nbconvert_exporter": "python",
   "pygments_lexer": "ipython3",
   "version": "3.11.6"
  }
 },
 "nbformat": 4,
 "nbformat_minor": 2
}
