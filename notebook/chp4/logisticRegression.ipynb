{
 "cells": [
  {
   "cell_type": "code",
   "execution_count": null,
   "metadata": {
    "ExecuteTime": {
     "end_time": "2020-09-01T08:08:22.527754Z",
     "start_time": "2020-09-01T08:08:22.519997Z"
    }
   },
   "outputs": [],
   "source": [
    "import warnings\n",
    "warnings.simplefilter('ignore')\n",
    "\n",
    "import sys, os\n",
    "# システムの探索パスに'../../codes/'を追加し、codes/data.pyをモジュールとして読み込めるようにする\n",
    "sys.path.append('../../codes/')"
   ]
  },
  {
   "cell_type": "code",
   "execution_count": null,
   "metadata": {},
   "outputs": [],
   "source": [
    "from matplotlib import rcParams\n",
    "rcParams['font.family'] = 'sans-serif'\n",
    "rcParams['font.sans-serif'] = ['Hiragino Maru Gothic Pro', 'Yu Gothic', 'Meirio', 'Takao', 'IPAexGothic', 'IPAPGothic', 'Noto Sans CJK JP']"
   ]
  },
  {
   "cell_type": "code",
   "execution_count": null,
   "metadata": {},
   "outputs": [],
   "source": [
    "# -*- coding: utf-8 -*-\n",
    "import numpy as np\n",
    "import logisticRegression as lr\n",
    "# import data_jupyter as data\n",
    "import data as data\n",
    "\n",
    "#-------------------\n",
    "# 1. データの作成\n",
    "myData = data.classification(negLabel=0,posLabel=1)\n",
    "myData.makeData(dataType=1)\n",
    "#-------------------\n",
    "\n",
    "#-------------------\n",
    "# 2. データを学習と評価用に分割\n",
    "dtrNum = int(len(myData.X)*0.9)  # 学習データ数\n",
    "# 学習データ（全体の90%）\n",
    "Xtr = myData.X[:dtrNum]\n",
    "Ytr = myData.Y[:dtrNum]\n",
    "\n",
    "# 評価データ（全体の10%）\n",
    "Xte = myData.X[dtrNum:]\n",
    "Yte = myData.Y[dtrNum:]\n",
    "#-------------------\n",
    "\n",
    "#-------------------\n",
    "# 3. 入力データの標準化\n",
    "xMean = np.mean(Xtr,axis=0)\n",
    "xStd = np.std(Xtr,axis=0)\n",
    "Xtr = (Xtr-xMean)/xStd\n",
    "Xte = (Xte-xMean)/xStd\n",
    "#-------------------\n",
    "\n",
    "#-------------------\n",
    "# 4. ロジスティックモデルの学習と評価\n",
    "myModel = lr.logisticRegression(Xtr,Ytr)\n",
    "\n",
    "trLoss = []\n",
    "teLoss = []\n",
    "\n",
    "for ite in range(1001):\n",
    "    trLoss.append(myModel.CE(Xtr,Ytr))\n",
    "    teLoss.append(myModel.CE(Xte,Yte))\n",
    "    \n",
    "    if ite%100==0:\n",
    "        print(f\"反復:{ite}\")\n",
    "        print(f\"モデルパラメータ:\\nw={myModel.w},\\nb={myModel.b}\")\n",
    "        print(f\"平均交差エントロピー損失={myModel.CE(Xte,Yte):.2f}\")\n",
    "        print(f\"正解率={myModel.accuracy(Xte,Yte):.2f}\")\n",
    "        print(\"----------------\")\n",
    "        \n",
    "    # モデルパラメータの更新\n",
    "    myModel.update(alpha=1)\n",
    "#-------------------\n",
    "\n",
    "\n"
   ]
  },
  {
   "cell_type": "code",
   "execution_count": null,
   "metadata": {},
   "outputs": [],
   "source": [
    "#-------------------\n",
    "# 5. 真値と予測値のプロット\n",
    "if Xtr.shape[1] == 1:\n",
    "    myModel.plotModel1D(X=Xtr,Y=Ytr,xLabel=myData.xLabel,yLabel=myData.yLabel)\n",
    "elif Xtr.shape[1] == 2:\n",
    "    myModel.plotModel2D(X=Xtr,Y=Ytr,xLabel=myData.xLabel,yLabel=myData.yLabel)\n",
    "#-------------------"
   ]
  },
  {
   "cell_type": "code",
   "execution_count": null,
   "metadata": {},
   "outputs": [],
   "source": [
    "\n",
    "#-------------------\n",
    "# 6. 学習と評価損失のプロット\n",
    "myModel.plotEval(trLoss,teLoss)\n",
    "#myModel.plotLoss(trLoss,teLoss)\n",
    "#-------------------"
   ]
  }
 ],
 "metadata": {
  "kernelspec": {
   "display_name": "base",
   "language": "python",
   "name": "python3"
  },
  "language_info": {
   "codemirror_mode": {
    "name": "ipython",
    "version": 3
   },
   "file_extension": ".py",
   "mimetype": "text/x-python",
   "name": "python",
   "nbconvert_exporter": "python",
   "pygments_lexer": "ipython3",
   "version": "3.11.6"
  }
 },
 "nbformat": 4,
 "nbformat_minor": 2
}
