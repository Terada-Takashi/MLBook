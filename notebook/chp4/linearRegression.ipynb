{
 "cells": [
  {
   "cell_type": "code",
   "execution_count": null,
   "metadata": {
    "ExecuteTime": {
     "end_time": "2020-09-01T08:08:22.527754Z",
     "start_time": "2020-09-01T08:08:22.519997Z"
    }
   },
   "outputs": [],
   "source": [
    "import warnings\n",
    "warnings.simplefilter('ignore')\n",
    "\n",
    "import sys, os\n",
    "# システムの探索パスに'../../codes/'を追加し、codes/data.pyをモジュールとして読み込めるようにする\n",
    "sys.path.append('../../codes/')"
   ]
  },
  {
   "cell_type": "code",
   "execution_count": null,
   "metadata": {},
   "outputs": [],
   "source": [
    "from matplotlib import rcParams\n",
    "rcParams['font.family'] = 'sans-serif'\n",
    "rcParams['font.sans-serif'] = ['Hiragino Maru Gothic Pro', 'Yu Gothic', 'Meirio', 'Takao', 'IPAexGothic', 'IPAPGothic', 'Noto Sans CJK JP']"
   ]
  },
  {
   "cell_type": "code",
   "execution_count": null,
   "metadata": {
    "ExecuteTime": {
     "end_time": "2020-09-01T08:19:07.105255Z",
     "start_time": "2020-09-01T08:19:07.090245Z"
    }
   },
   "outputs": [],
   "source": [
    "# -*- coding: utf-8 -*-\n",
    "import numpy as np\n",
    "import linearRegression as lr\n",
    "import data as data\n",
    "\n",
    "#-------------------\n",
    "# 1. データの作成\n",
    "myData = data.regression()\n",
    "myData.makeData(dataType=1)\n",
    "#-------------------\n",
    "\n",
    "#-------------------\n",
    "# 2. データを学習と評価用に分割\n",
    "dtrNum = int(len(myData.X)*0.9)  # 学習データ数\n",
    "\n",
    "# 学習データ（全体の90%）\n",
    "Xtr = myData.X[:dtrNum]\n",
    "Ytr = myData.Y[:dtrNum]\n",
    "\n",
    "# 評価データ（全体の10%）\n",
    "Xte = myData.X[dtrNum:]\n",
    "Yte = myData.Y[dtrNum:]\n",
    "#-------------------\n",
    "\n",
    "#-------------------\n",
    "# 3. 線形モデルの学習\n",
    "myModel = lr.linearRegression(Xtr,Ytr)\n",
    "myModel.train()\n",
    "#myModel.trainRegularized(lamb=1)\n",
    "#-------------------\n",
    "\n",
    "\n",
    "#-------------------\n",
    "# 4. 線形モデルの評価\n",
    "print(f\"モデルパラメータ:\\nw={myModel.w},\\nb={myModel.b}\")\n",
    "print(f\"平方平均二乗誤差={myModel.RMSE(Xte,Yte):.2f}ドル\")\n",
    "print(f\"決定係数={myModel.R2(Xte,Yte):.2f}\")\n",
    "#-------------------\n",
    "\n",
    "#-------------------\n",
    "# 5. 線形モデルのプロット\n",
    "myModel.plotResult(X=Xtr,Y=Ytr,xLabel=myData.xLabel,yLabel=myData.yLabel,fName=\"\")\n",
    "#-------------------"
   ]
  }
 ],
 "metadata": {
  "kernelspec": {
   "display_name": "base",
   "language": "python",
   "name": "python3"
  },
  "language_info": {
   "codemirror_mode": {
    "name": "ipython",
    "version": 3
   },
   "file_extension": ".py",
   "mimetype": "text/x-python",
   "name": "python",
   "nbconvert_exporter": "python",
   "pygments_lexer": "ipython3",
   "version": "3.9.10"
  }
 },
 "nbformat": 4,
 "nbformat_minor": 2
}
