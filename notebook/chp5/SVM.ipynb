{
 "cells": [
  {
   "cell_type": "code",
   "execution_count": null,
   "metadata": {
    "ExecuteTime": {
     "end_time": "2020-09-01T08:08:22.527754Z",
     "start_time": "2020-09-01T08:08:22.519997Z"
    }
   },
   "outputs": [],
   "source": [
    "import warnings\n",
    "warnings.simplefilter('ignore')\n",
    "\n",
    "import sys, os\n",
    "# システムの探索パスに'../../codes/'を追加し、codes/data.pyをモジュールとして読み込めるようにする\n",
    "sys.path.append('../../codes/')"
   ]
  },
  {
   "cell_type": "code",
   "execution_count": null,
   "metadata": {},
   "outputs": [],
   "source": [
    "from matplotlib import rcParams\n",
    "rcParams['font.family'] = 'sans-serif'\n",
    "rcParams['font.sans-serif'] = ['Hiragino Maru Gothic Pro', 'Yu Gothic', 'Meirio', 'Takao', 'IPAexGothic', 'IPAPGothic', 'Noto Sans CJK JP']"
   ]
  },
  {
   "cell_type": "code",
   "execution_count": null,
   "metadata": {},
   "outputs": [],
   "source": [
    "# -*- coding: utf-8 -*-\n",
    "import numpy as np\n",
    "import SVM as svm\n",
    "# import data_jupyter as data\n",
    "import data as data\n",
    "\n",
    "#-------------------\n",
    "# 1. データの作成\n",
    "myData = data.classification(negLabel=-1.0,posLabel=1.0)\n",
    "myData.makeData(dataType=3)\n",
    "#-------------------\n",
    "\n",
    "#-------------------\n",
    "# 2. データを学習と評価用に分割\n",
    "dtrNum = int(len(myData.X)*0.9)  # 学習データ数\n",
    "# 学習データ（全体の90%）\n",
    "Xtr = myData.X[:dtrNum]\n",
    "Ytr = myData.Y[:dtrNum]\n",
    "\n",
    "# 評価データ（全体の10%）\n",
    "Xte = myData.X[dtrNum:]\n",
    "Yte = myData.Y[dtrNum:]\n",
    "#-------------------\n",
    "\n",
    "#-------------------\n",
    "# 3. 標準化\n",
    "xMean = np.mean(Xtr,axis=0)\n",
    "xStd = np.std(Xtr,axis=0)\n",
    "Xtr = (Xtr-xMean)/xStd\n",
    "Xte = (Xte-xMean)/xStd\n",
    "#-------------------\n",
    "\n",
    "#-------------------\n",
    "# 4. SVMのモデルの学習\n",
    "myModel = svm.SVM(Xtr,Ytr)\n",
    "myModel.train()\n",
    "#myModel.trainSoft(0.5)\n",
    "#-------------------\n",
    "\n",
    "#-------------------\n",
    "# 5. SVMモデルの評価\n",
    "print(f\"モデルパラメータ:\\nw={myModel.w}\\nb={myModel.b}\")\n",
    "print(f\"評価データの正解率={myModel.accuracy(Xte,Yte):.2f}\")\n",
    "#-------------------"
   ]
  },
  {
   "cell_type": "code",
   "execution_count": null,
   "metadata": {},
   "outputs": [],
   "source": [
    "#-------------------\n",
    "# 6. 真値と予測値のプロット\n",
    "myModel.plotModel2D(X=Xtr,Y=Ytr,spptInds=myModel.spptInds,xLabel=myData.xLabel,yLabel=myData.yLabel,\n",
    "    title=f\"学習正解率:{myModel.accuracy(Xtr,Ytr):.2f},評価正解率:{myModel.accuracy(Xte,Yte):.2f}\",\n",
    "    isLinePlot=True)\n",
    "#-------------------"
   ]
  }
 ],
 "metadata": {
  "kernelspec": {
   "display_name": "base",
   "language": "python",
   "name": "python3"
  },
  "language_info": {
   "codemirror_mode": {
    "name": "ipython",
    "version": 3
   },
   "file_extension": ".py",
   "mimetype": "text/x-python",
   "name": "python",
   "nbconvert_exporter": "python",
   "pygments_lexer": "ipython3",
   "version": "3.11.6"
  }
 },
 "nbformat": 4,
 "nbformat_minor": 2
}
