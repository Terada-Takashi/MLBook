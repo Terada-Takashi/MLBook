{
 "cells": [
  {
   "cell_type": "code",
   "execution_count": null,
   "metadata": {
    "ExecuteTime": {
     "end_time": "2020-09-01T08:08:22.527754Z",
     "start_time": "2020-09-01T08:08:22.519997Z"
    }
   },
   "outputs": [],
   "source": [
    "import warnings\n",
    "warnings.simplefilter('ignore')\n",
    "\n",
    "import sys, os\n",
    "# システムの探索パスに'../../codes/'を追加し、codes/data.pyをモジュールとして読み込めるようにする\n",
    "sys.path.append('../../codes/')"
   ]
  },
  {
   "cell_type": "code",
   "execution_count": null,
   "metadata": {},
   "outputs": [],
   "source": [
    "from matplotlib import rcParams\n",
    "rcParams['font.family'] = 'sans-serif'\n",
    "rcParams['font.sans-serif'] = ['Hiragino Maru Gothic Pro', 'Yu Gothic', 'Meirio', 'Takao', 'IPAexGothic', 'IPAPGothic', 'Noto Sans CJK JP']"
   ]
  },
  {
   "cell_type": "code",
   "execution_count": null,
   "metadata": {},
   "outputs": [],
   "source": [
    "# -*- coding: utf-8 -*-\n",
    "import numpy as np\n",
    "import LDA as lda\n",
    "# import data_jupyter as data\n",
    "import data as data\n",
    "\n",
    "#-------------------\n",
    "# 1. データの作成\n",
    "myData = data.classification(negLabel=-1,posLabel=1)\n",
    "myData.makeData(dataType=2)\n",
    "#-------------------\n",
    "\n",
    "#-------------------\n",
    "# 2. データを学習と評価用に分割\n",
    "dtrNum = int(len(myData.X)*0.9)  # 学習データ数\n",
    "# 学習データ（全体の90%）\n",
    "Xtr = myData.X[:dtrNum]\n",
    "Ytr = myData.Y[:dtrNum]\n",
    "\n",
    "# 評価データ（全体の10%）\n",
    "Xte = myData.X[dtrNum:]\n",
    "Yte = myData.Y[dtrNum:]\n",
    "#-------------------\n",
    "'''\n",
    "#-------------------\n",
    "# アンダーサンプリング\n",
    "# カテゴリの最小のデータ数\n",
    "minNum = np.min([np.sum(Ytr==-1),np.sum(Ytr==1)])\n",
    "# 各カテゴリのデータ\n",
    "Xneg = Xtr[Ytr[:,0]==-1]\n",
    "Xpos = Xtr[Ytr[:,0]==1]\n",
    "# 最小データ数分だけ各カテゴリから抽出し結合\n",
    "Xtr = np.concatenate([Xneg[:minNum],Xpos[:minNum]],axis=0)\n",
    "Ytr = np.concatenate([-1*np.ones(shape=[minNum,1]),1*np.ones(shape=[minNum,1])])\n",
    "#-------------------\n",
    "'''\n",
    "\n",
    "#-------------------\n",
    "# 3. 線形判別モデルの学習\n",
    "myModel = lda.LDA(Xtr,Ytr)\n",
    "myModel.train()\n",
    "#-------------------\n",
    "\n",
    "#-------------------\n",
    "# 4. 線形判別モデルの評価\n",
    "print(f\"モデルパラメータ:\\nw={myModel.w},\\n平均m={myModel.m}\")\n",
    "print(f\"正解率={myModel.accuracy(Xte,Yte):.2f}\")\n",
    "#-------------------"
   ]
  },
  {
   "cell_type": "code",
   "execution_count": null,
   "metadata": {},
   "outputs": [],
   "source": [
    "#-------------------\n",
    "# 5. 真値と予測値のプロット\n",
    "if Xtr.shape[1] == 2:\n",
    "    myModel.plotModel2D(X=Xtr,Y=Ytr,xLabel=myData.xLabel,yLabel=myData.yLabel)    \n",
    "#-------------------"
   ]
  }
 ],
 "metadata": {
  "kernelspec": {
   "display_name": "base",
   "language": "python",
   "name": "python3"
  },
  "language_info": {
   "codemirror_mode": {
    "name": "ipython",
    "version": 3
   },
   "file_extension": ".py",
   "mimetype": "text/x-python",
   "name": "python",
   "nbconvert_exporter": "python",
   "pygments_lexer": "ipython3",
   "version": "3.11.6"
  }
 },
 "nbformat": 4,
 "nbformat_minor": 2
}
