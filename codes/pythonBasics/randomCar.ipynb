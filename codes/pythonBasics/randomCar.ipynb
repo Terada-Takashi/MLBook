{
 "cells": [
  {
   "cell_type": "code",
   "execution_count": null,
   "id": "a9f664f3",
   "metadata": {},
   "outputs": [],
   "source": [
    "# -*- coding: utf-8 -*-\n",
    "import gym\n"
   ]
  },
  {
   "cell_type": "code",
   "execution_count": null,
   "id": "ddeaaa7d",
   "metadata": {},
   "outputs": [],
   "source": [
    "\n",
    "#-------------------\n",
    "# 1. MountainCarタスクの読み込み\n",
    "# env = gym.make('MountainCar-v0')\n",
    "env = gym.make('MountainCar-v0',render_mode=\"rgb_array\")\n",
    "#-------------------\n"
   ]
  },
  {
   "cell_type": "code",
   "execution_count": null,
   "id": "db211358",
   "metadata": {},
   "outputs": [],
   "source": [
    "\n",
    "\n",
    "#-------------------\n",
    "# 2. 環境の初期化\n",
    "env.reset()\n",
    "#-------------------\n",
    "\n"
   ]
  },
  {
   "cell_type": "code",
   "execution_count": null,
   "id": "c4342cde",
   "metadata": {},
   "outputs": [],
   "source": [
    "\n",
    "\n",
    "#-------------------\n",
    "# 3. ランダムに行動を選択し描画\n",
    "for i in range(500):\n",
    "    env.step(env.action_space.sample())\n",
    "    env.render()\n",
    "#-------------------\n"
   ]
  },
  {
   "cell_type": "code",
   "execution_count": null,
   "id": "28b82257",
   "metadata": {},
   "outputs": [],
   "source": [
    "\n",
    "#-------------------\n",
    "# 4. 終了\n",
    "env.close()\n",
    "#-------------------"
   ]
  },
  {
   "cell_type": "code",
   "execution_count": null,
   "id": "03639434",
   "metadata": {},
   "outputs": [],
   "source": []
  }
 ],
 "metadata": {
  "kernelspec": {
   "display_name": "base",
   "language": "python",
   "name": "python3"
  },
  "language_info": {
   "codemirror_mode": {
    "name": "ipython",
    "version": 3
   },
   "file_extension": ".py",
   "mimetype": "text/x-python",
   "name": "python",
   "nbconvert_exporter": "python",
   "pygments_lexer": "ipython3",
   "version": "3.11.6"
  }
 },
 "nbformat": 4,
 "nbformat_minor": 5
}
