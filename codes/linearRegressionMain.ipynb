{
 "cells": [
  {
   "cell_type": "code",
   "execution_count": null,
   "id": "84d4b617",
   "metadata": {},
   "outputs": [],
   "source": [
    "# -*- coding: utf-8 -*-\n",
    "import numpy as np\n",
    "import linearRegression as lr\n",
    "import data"
   ]
  },
  {
   "cell_type": "code",
   "execution_count": null,
   "id": "6c856032",
   "metadata": {},
   "outputs": [],
   "source": [
    "#-------------------\n",
    "# 1. データの作成\n",
    "myData = data.regression()\n",
    "# myData.makeData(dataType=1)\n",
    "myData.makeData(dataType=2)\n",
    "\n",
    "# # 標準化\n",
    "# myData.X = (myData.X-np.mean(myData.X,axis=0))/np.std(myData.X,axis=0)\n",
    "# myData.Y = (myData.Y-np.mean(myData.Y,axis=0))/np.std(myData.Y,axis=0)\n",
    "#-------------------"
   ]
  },
  {
   "cell_type": "code",
   "execution_count": null,
   "id": "bd326859",
   "metadata": {},
   "outputs": [],
   "source": [
    "#-------------------\n",
    "# 2. データを学習と評価用に分割\n",
    "dtrNum = int(len(myData.X)*0.9)  # 学習データ数\n",
    "\n",
    "# 学習データ（全体の90%）\n",
    "Xtr = myData.X[:dtrNum]\n",
    "Ytr = myData.Y[:dtrNum]\n",
    "\n",
    "# 評価データ（全体の10%）\n",
    "Xte = myData.X[dtrNum:]\n",
    "Yte = myData.Y[dtrNum:]\n",
    "#-------------------\n"
   ]
  },
  {
   "cell_type": "code",
   "execution_count": null,
   "id": "d94e7b5b",
   "metadata": {},
   "outputs": [],
   "source": [
    "#-------------------\n",
    "# 3. 線形モデルの学習\n",
    "myModel = lr.linearRegression(Xtr,Ytr)\n",
    "myModel.train()\n",
    "#myModel.trainRegularized(lamb=1)\n",
    "#-------------------\n"
   ]
  },
  {
   "cell_type": "code",
   "execution_count": null,
   "id": "9e63a1ab",
   "metadata": {},
   "outputs": [],
   "source": [
    "#-------------------\n",
    "# 4. 線形モデルの評価\n",
    "print(f\"モデルパラメータ:\\nw={myModel.w},\\nb={myModel.b}\")\n",
    "print(f\"平方平均二乗誤差={myModel.RMSE(Xte,Yte):.2f}ドル\")\n",
    "print(f\"決定係数={myModel.R2(Xte,Yte):.2f}\")\n",
    "#-------------------\n"
   ]
  },
  {
   "cell_type": "code",
   "execution_count": null,
   "id": "70f878a7",
   "metadata": {},
   "outputs": [],
   "source": [
    "#-------------------\n",
    "# 5. 線形モデルのプロット\n",
    "myModel.plotResult(X=Xtr,Y=Ytr,xLabel=myData.xLabel,yLabel=myData.yLabel,fName=f\"../results/linearRegression_result_train_{myData.dataType}.pdf\")\n",
    "#-------------------"
   ]
  }
 ],
 "metadata": {
  "kernelspec": {
   "display_name": "base",
   "language": "python",
   "name": "python3"
  },
  "language_info": {
   "codemirror_mode": {
    "name": "ipython",
    "version": 3
   },
   "file_extension": ".py",
   "mimetype": "text/x-python",
   "name": "python",
   "nbconvert_exporter": "python",
   "pygments_lexer": "ipython3",
   "version": "3.9.10"
  }
 },
 "nbformat": 4,
 "nbformat_minor": 5
}
